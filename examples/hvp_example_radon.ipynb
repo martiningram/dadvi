{
 "cells": [
  {
   "cell_type": "markdown",
   "id": "4869b8fe",
   "metadata": {},
   "source": [
    "To run this, you should need only:\n",
    "\n",
    "* `pip install pymc3==3.11.4`\n",
    "* `pip install jax[cpu]==0.2.11 jaxlib==0.1.64`\n",
    "\n",
    "In addition to pandas, scipy, matplotlib, and jupyter.\n",
    "\n",
    "You will also have to run `pip install - e .` in the root of the DADVI package."
   ]
  },
  {
   "cell_type": "code",
   "execution_count": 1,
   "id": "4015feda",
   "metadata": {},
   "outputs": [
    {
     "name": "stderr",
     "output_type": "stream",
     "text": [
      "/home/martin/miniconda3/envs/pymc_test/lib/python3.8/site-packages/scipy/__init__.py:146: UserWarning: A NumPy version >=1.16.5 and <1.23.0 is required for this version of SciPy (detected version 1.23.1\n",
      "  warnings.warn(f\"A NumPy version >={np_minversion} and <{np_maxversion}\"\n"
     ]
    }
   ],
   "source": [
    "# Define the model:\n",
    "\n",
    "import matplotlib.pyplot as plt\n",
    "import numpy as np\n",
    "import pandas as pd\n",
    "import pymc3 as pm\n",
    "import theano\n",
    "from jax.config import config; config.update(\"jax_enable_x64\", True)\n",
    "\n",
    "\n",
    "data = pd.read_csv(pm.get_data('radon.csv'))\n",
    "data['log_radon'] = data['log_radon'].astype(theano.config.floatX)\n",
    "county_names = data.county.unique()\n",
    "county_idx = data.county_code.values.astype('int32')\n",
    "\n",
    "n_counties = len(data.county.unique())\n",
    "\n",
    "with pm.Model() as hierarchical_model:\n",
    "    # Hyperpriors for group nodes\n",
    "    mu_a = pm.Normal('mu_a', mu=0., sigma=100.)\n",
    "    sigma_a = pm.HalfNormal('sigma_a', 5.)\n",
    "    mu_b = pm.Normal('mu_b', mu=0., sigma=100.)\n",
    "    sigma_b = pm.HalfNormal('sigma_b', 5.)\n",
    "\n",
    "    # Intercept for each county, distributed around group mean mu_a\n",
    "    # Above we just set mu and sd to a fixed value while here we\n",
    "    # plug in a common group distribution for all a and b (which are\n",
    "    # vectors of length n_counties).\n",
    "    a = pm.Normal('a', mu=mu_a, sigma=sigma_a, shape=n_counties)\n",
    "    # Intercept for each county, distributed around group mean mu_a\n",
    "    b = pm.Normal('b', mu=mu_b, sigma=sigma_b, shape=n_counties)\n",
    "\n",
    "    # Model error\n",
    "    eps = pm.HalfCauchy('eps', 5.)\n",
    "\n",
    "    radon_est = a[county_idx] + b[county_idx]*data.floor.values\n",
    "\n",
    "    # Data likelihood\n",
    "    radon_like = pm.Normal('radon_like', mu=radon_est,\n",
    "                           sigma=eps, observed=data.log_radon)"
   ]
  },
  {
   "cell_type": "code",
   "execution_count": 6,
   "id": "42eee9b3",
   "metadata": {},
   "outputs": [],
   "source": [
    "from dadvi.jax import build_dadvi_funs as build_dadvi_funs_from_jax, hvp\n",
    "from dadvi.pymc3.pymc3_to_jax import get_jax_functions_from_pymc3\n",
    "from jax import grad\n",
    "from dadvi.objective_from_model import build_dadvi_funs as build_dadvi_funs_from_posterior\n",
    "from dadvi.core import find_dadvi_optimum"
   ]
  },
  {
   "cell_type": "code",
   "execution_count": 3,
   "id": "3f554044",
   "metadata": {},
   "outputs": [
    {
     "name": "stderr",
     "output_type": "stream",
     "text": [
      "WARNING:absl:No GPU/TPU found, falling back to CPU. (Set TF_CPP_MIN_LOG_LEVEL=0 and rerun for more info.)\n"
     ]
    }
   ],
   "source": [
    "# We can use PyMC3's JAX integration to get the log posterior density in JAX:\n",
    "jax_funs = get_jax_functions_from_pymc3(hierarchical_model)"
   ]
  },
  {
   "cell_type": "code",
   "execution_count": 5,
   "id": "641b10c0",
   "metadata": {},
   "outputs": [
    {
     "data": {
      "text/plain": [
       "{'log_posterior_fun': <function dadvi.pymc3.pymc3_to_jax.get_jax_functions_from_pymc3.<locals>.flat_log_post_fun(flat_params)>,\n",
       " 'unflatten_fun': <function jax.flatten_util.ravel_pytree.<locals>.<lambda>(flat)>,\n",
       " 'n_params': 175}"
      ]
     },
     "execution_count": 5,
     "metadata": {},
     "output_type": "execute_result"
    }
   ],
   "source": [
    "# You can see that we get the log posterior function,\n",
    "# an \"unflattening\" function, which returns a flat vector back to a dictionary, and\n",
    "# the number of parameters in the model.\n",
    "jax_funs"
   ]
  },
  {
   "cell_type": "code",
   "execution_count": 12,
   "id": "a8b1094d",
   "metadata": {},
   "outputs": [],
   "source": [
    "# We can now build the DADVI funs using the JAX integration:\n",
    "dadvi_funs_jax = build_dadvi_funs_from_jax(jax_funs['log_posterior_fun'])"
   ]
  },
  {
   "cell_type": "code",
   "execution_count": 13,
   "id": "e8741ed1",
   "metadata": {},
   "outputs": [
    {
     "data": {
      "text/plain": [
       "DADVIFuns(kl_est_and_grad_fun=<function build_dadvi_funs.<locals>.full_kl_est at 0x7f2e14691d30>, kl_est_hvp_fun=<function build_dadvi_funs.<locals>.kl_est_hvp_fun at 0x7f2e14691a60>)"
      ]
     },
     "execution_count": 13,
     "metadata": {},
     "output_type": "execute_result"
    }
   ],
   "source": [
    "from dadvi.core import DADVIFuns\n",
    "\n",
    "# We now have access to the value, gradient and hvp of the DADVI objective:\n",
    "dadvi_funs_jax"
   ]
  },
  {
   "cell_type": "code",
   "execution_count": 11,
   "id": "f69e1fde",
   "metadata": {},
   "outputs": [],
   "source": [
    "# You can read more about how these are defined in the documentation:\n",
    "?DADVIFuns"
   ]
  },
  {
   "cell_type": "code",
   "execution_count": 15,
   "id": "b4a2aee0",
   "metadata": {},
   "outputs": [],
   "source": [
    "x = np.random.randn(2 * jax_funs['n_params']) * 1e-6\n",
    "zs = np.random.randn(10, jax_funs['n_params'])"
   ]
  },
  {
   "cell_type": "code",
   "execution_count": 55,
   "id": "9845d4ef",
   "metadata": {
    "scrolled": true
   },
   "outputs": [
    {
     "name": "stdout",
     "output_type": "stream",
     "text": [
      "'f': 5410.168427550558, ||grad(f)||: 10306.689814927837\n",
      "'f': 3667.948578086624, ||grad(f)||: 4050.0984235280334\n",
      "'f': 2875.523707081899, ||grad(f)||: 1575.611131839815\n",
      "'f': 2520.049951100832, ||grad(f)||: 621.2642436431228\n",
      "'f': 2322.8565817254953, ||grad(f)||: 296.0203847614621\n",
      "'f': 2176.8862265149296, ||grad(f)||: 124.74475287085093\n",
      "'f': 2085.472499747125, ||grad(f)||: 175.8287988005001\n",
      "'f': 1946.3388919468807, ||grad(f)||: 116.95556146401408\n",
      "'f': 1757.3518249823408, ||grad(f)||: 97.36783302753096\n",
      "'f': 1908.726097096239, ||grad(f)||: 904.7201391566026\n",
      "'f': 1730.7196781107443, ||grad(f)||: 198.36405954300687\n",
      "'f': 1676.3484720849378, ||grad(f)||: 64.69969022402651\n",
      "'f': 1601.0083040662744, ||grad(f)||: 70.77909009576153\n",
      "'f': 1523.2274113802232, ||grad(f)||: 213.30517108658856\n",
      "'f': 1474.9049676746345, ||grad(f)||: 58.12256934110582\n",
      "'f': 1410.9042784407757, ||grad(f)||: 157.8908100280606\n",
      "'f': 1380.5522569078266, ||grad(f)||: 46.567366553067664\n",
      "'f': 1336.113497880275, ||grad(f)||: 126.2921071759667\n",
      "'f': 1331.3579151706792, ||grad(f)||: 47.68943954090735\n",
      "'f': 1325.6326918833618, ||grad(f)||: 14.210216789526466\n",
      "'f': 1331.044151828473, ||grad(f)||: 80.05756529308955\n",
      "'f': 1314.5603795271063, ||grad(f)||: 22.423135782490885\n",
      "'f': 1313.5566202603598, ||grad(f)||: 8.284107065618743\n",
      "'f': 1308.4875598804203, ||grad(f)||: 16.432207084797156\n",
      "'f': 1305.5256483618418, ||grad(f)||: 7.168747675509125\n",
      "'f': 1305.0188422164838, ||grad(f)||: 3.5479920883028715\n",
      "'f': 1303.3686563013039, ||grad(f)||: 4.558802551743813\n",
      "'f': 1303.018133194235, ||grad(f)||: 2.126970854893281\n",
      "'f': 1302.767920069151, ||grad(f)||: 0.9682893831018679\n",
      "'f': 1302.4048698366025, ||grad(f)||: 1.7834967193763964\n",
      "'f': 1302.397881620964, ||grad(f)||: 0.8758959336328141\n",
      "'f': 1302.3851281560962, ||grad(f)||: 0.27462416222006114\n",
      "'f': 1302.3408145003946, ||grad(f)||: 0.41985082980095684\n",
      "'f': 1302.3393529902767, ||grad(f)||: 0.11744919285042699\n",
      "'f': 1302.336828823893, ||grad(f)||: 0.028068794138091765\n",
      "'f': 1302.3367925288112, ||grad(f)||: 0.004186350181114041\n",
      "'f': 1302.3367826424005, ||grad(f)||: 0.00017748965942373845\n",
      "'f': 1302.336782641715, ||grad(f)||: 1.4106887294414016e-06\n"
     ]
    }
   ],
   "source": [
    "# We can optimise the DADVI objective using these:\n",
    "dadvi_opt_jax = find_dadvi_optimum(x, zs, dadvi_funs_jax, verbose=True)"
   ]
  },
  {
   "cell_type": "code",
   "execution_count": 41,
   "id": "c6fa08c3",
   "metadata": {},
   "outputs": [],
   "source": [
    "# We can now also get the DADVI functions from only the value, gradient and hvp of the log posterior.\n",
    "# Get these from JAX first:\n",
    "from jax import jit\n",
    "\n",
    "post_grad = jit(grad(jax_funs['log_posterior_fun']))\n",
    "post_hvp = jit(lambda x, y: hvp(jax_funs['log_posterior_fun'], x, y))\n",
    "\n",
    "# Now we can build the dadvi functions:\n",
    "dadvi_funs_analytic = build_dadvi_funs_from_posterior(\n",
    "    jit(jax_funs['log_posterior_fun']), post_grad, post_hvp)"
   ]
  },
  {
   "cell_type": "code",
   "execution_count": 42,
   "id": "ebcff699",
   "metadata": {},
   "outputs": [],
   "source": [
    "# Let's benchmark the JAX and analytic versions against each other\n",
    "# Note that this is best run twice as the first run might be affected by JIT compilation"
   ]
  },
  {
   "cell_type": "code",
   "execution_count": 45,
   "id": "da01dd2c",
   "metadata": {},
   "outputs": [
    {
     "name": "stdout",
     "output_type": "stream",
     "text": [
      "156 µs ± 941 ns per loop (mean ± std. dev. of 7 runs, 10,000 loops each)\n"
     ]
    }
   ],
   "source": [
    "%%timeit\n",
    "jax_val_grad = dadvi_funs_jax.kl_est_and_grad_fun(x, zs)"
   ]
  },
  {
   "cell_type": "code",
   "execution_count": 46,
   "id": "3cd4a30e",
   "metadata": {},
   "outputs": [
    {
     "name": "stdout",
     "output_type": "stream",
     "text": [
      "2.76 ms ± 11.3 µs per loop (mean ± std. dev. of 7 runs, 100 loops each)\n"
     ]
    }
   ],
   "source": [
    "%%timeit\n",
    "analytic_val_grad = dadvi_funs_analytic.kl_est_and_grad_fun(x, zs)"
   ]
  },
  {
   "cell_type": "code",
   "execution_count": 47,
   "id": "8617dd0f",
   "metadata": {},
   "outputs": [
    {
     "name": "stdout",
     "output_type": "stream",
     "text": [
      "5410.168427550558 5410.168427550556\n"
     ]
    },
    {
     "data": {
      "image/png": "[encoded data removed]",
      "text/plain": [
       "<Figure size 432x288 with 1 Axes>"
      ]
     },
     "metadata": {
      "image/png": {
       "height": 248,
       "width": 390
      },
      "needs_background": "light"
     },
     "output_type": "display_data"
    }
   ],
   "source": [
    "# Compare these\n",
    "jax_val_grad = dadvi_funs_jax.kl_est_and_grad_fun(x, zs)\n",
    "analytic_val_grad = dadvi_funs_analytic.kl_est_and_grad_fun(x, zs)\n",
    "\n",
    "plt.scatter(jax_val_grad[1], analytic_val_grad[1])\n",
    "plt.plot([jax_val_grad[1].min(), jax_val_grad[1].max()], [jax_val_grad[1].min(), jax_val_grad[1].max()])\n",
    "print(jax_val_grad[0], analytic_val_grad[0])"
   ]
  },
  {
   "cell_type": "code",
   "execution_count": 48,
   "id": "51da895a",
   "metadata": {},
   "outputs": [
    {
     "data": {
      "text/plain": [
       "True"
      ]
     },
     "execution_count": 48,
     "metadata": {},
     "output_type": "execute_result"
    }
   ],
   "source": [
    "np.allclose(jax_val_grad[1], analytic_val_grad[1])"
   ]
  },
  {
   "cell_type": "code",
   "execution_count": 49,
   "id": "86002fab",
   "metadata": {},
   "outputs": [],
   "source": [
    "# Now let's look at the hvp:\n",
    "y = np.random.randn(2 * jax_funs['n_params']) * 1e-6"
   ]
  },
  {
   "cell_type": "code",
   "execution_count": 50,
   "id": "dc0459fa",
   "metadata": {},
   "outputs": [
    {
     "name": "stdout",
     "output_type": "stream",
     "text": [
      "15 ms ± 417 µs per loop (mean ± std. dev. of 7 runs, 1 loop each)\n"
     ]
    }
   ],
   "source": [
    "%%timeit\n",
    "analytic_hvp = dadvi_funs_analytic.kl_est_hvp_fun(x, zs, y)"
   ]
  },
  {
   "cell_type": "code",
   "execution_count": 51,
   "id": "bd92d654",
   "metadata": {},
   "outputs": [
    {
     "name": "stdout",
     "output_type": "stream",
     "text": [
      "180 µs ± 1.82 µs per loop (mean ± std. dev. of 7 runs, 10,000 loops each)\n"
     ]
    }
   ],
   "source": [
    "%%timeit\n",
    "jax_hvp = dadvi_funs_jax.kl_est_hvp_fun(x, zs, y)"
   ]
  },
  {
   "cell_type": "code",
   "execution_count": 52,
   "id": "ffdc908f",
   "metadata": {},
   "outputs": [],
   "source": [
    "# Compare values:\n",
    "analytic_hvp = dadvi_funs_analytic.kl_est_hvp_fun(x, zs, y)\n",
    "jax_hvp = dadvi_funs_jax.kl_est_hvp_fun(x, zs, y)"
   ]
  },
  {
   "cell_type": "code",
   "execution_count": 53,
   "id": "4bb833f8",
   "metadata": {},
   "outputs": [
    {
     "data": {
      "text/plain": [
       "[<matplotlib.lines.Line2D at 0x7f2df021aca0>]"
      ]
     },
     "execution_count": 53,
     "metadata": {},
     "output_type": "execute_result"
    },
    {
     "data": {
      "image/png": "[encoded data removed]",
      "text/plain": [
       "<Figure size 432x288 with 1 Axes>"
      ]
     },
     "metadata": {
      "image/png": {
       "height": 248,
       "width": 393
      },
      "needs_background": "light"
     },
     "output_type": "display_data"
    }
   ],
   "source": [
    "plt.scatter(jax_hvp, analytic_hvp)\n",
    "plt.plot([jax_hvp.min(), jax_hvp.max()], [jax_hvp.min(), jax_hvp.max()])"
   ]
  },
  {
   "cell_type": "code",
   "execution_count": 54,
   "id": "4a4df763",
   "metadata": {},
   "outputs": [
    {
     "data": {
      "text/plain": [
       "True"
      ]
     },
     "execution_count": 54,
     "metadata": {},
     "output_type": "execute_result"
    }
   ],
   "source": [
    "np.allclose(jax_hvp, analytic_hvp)"
   ]
  },
  {
   "cell_type": "code",
   "execution_count": 56,
   "id": "cb735901",
   "metadata": {
    "scrolled": true
   },
   "outputs": [
    {
     "name": "stdout",
     "output_type": "stream",
     "text": [
      "'f': 5410.168427550556, ||grad(f)||: 10306.689814927837\n",
      "'f': 3667.948578086623, ||grad(f)||: 4050.098423528032\n",
      "'f': 2875.5237070818994, ||grad(f)||: 1575.611131839815\n",
      "'f': 2520.049951100832, ||grad(f)||: 621.2642436431224\n",
      "'f': 2322.8565817254953, ||grad(f)||: 296.02038476146197\n",
      "'f': 2176.8862265149296, ||grad(f)||: 124.74475287085085\n",
      "'f': 2085.472499747124, ||grad(f)||: 175.82879880050015\n",
      "'f': 1946.3388919468805, ||grad(f)||: 116.95556146401283\n",
      "'f': 1757.351824982341, ||grad(f)||: 97.36783302753814\n",
      "'f': 1908.7260970962518, ||grad(f)||: 904.7201391566606\n",
      "'f': 1730.7196781107439, ||grad(f)||: 198.36405954300645\n",
      "'f': 1676.348472084938, ||grad(f)||: 64.69969022402637\n",
      "'f': 1601.0083040662746, ||grad(f)||: 70.77909009576184\n",
      "'f': 1523.2274113802225, ||grad(f)||: 213.30517108657386\n",
      "'f': 1474.9049676746345, ||grad(f)||: 58.122569341105525\n",
      "'f': 1410.904278440768, ||grad(f)||: 157.89081002795817\n",
      "'f': 1380.5522569078255, ||grad(f)||: 46.56736655306099\n",
      "'f': 1336.1134973160956, ||grad(f)||: 126.2920979064201\n",
      "'f': 1331.3579151407655, ||grad(f)||: 47.689440027763084\n",
      "'f': 1325.6326918762811, ||grad(f)||: 14.210216687965781\n",
      "'f': 1331.044150731103, ||grad(f)||: 80.05754053972653\n",
      "'f': 1314.5603795351587, ||grad(f)||: 22.42313589868806\n",
      "'f': 1313.5566202602622, ||grad(f)||: 8.284107030794134\n",
      "'f': 1308.4877423548048, ||grad(f)||: 16.45294632430316\n",
      "'f': 1305.5256420295327, ||grad(f)||: 7.168853761408022\n",
      "'f': 1305.0188399539993, ||grad(f)||: 3.548020456690037\n",
      "'f': 1303.3687996722347, ||grad(f)||: 4.619731144711712\n",
      "'f': 1303.018132620234, ||grad(f)||: 2.126349109810041\n",
      "'f': 1302.767918936363, ||grad(f)||: 0.9681001237725742\n",
      "'f': 1302.4048655621953, ||grad(f)||: 1.7819457491924822\n",
      "'f': 1302.3978792684543, ||grad(f)||: 0.8763492193030624\n",
      "'f': 1302.3851251400656, ||grad(f)||: 0.2733563410899799\n",
      "'f': 1302.34082172428, ||grad(f)||: 0.4253725218438269\n",
      "'f': 1302.3393583051752, ||grad(f)||: 0.11860538197429935\n",
      "'f': 1302.3368653262928, ||grad(f)||: 0.03700754414598459\n",
      "'f': 1302.3368007769216, ||grad(f)||: 0.007089338255419252\n",
      "'f': 1302.3367826501271, ||grad(f)||: 0.0005866413805550696\n",
      "'f': 1302.336782641719, ||grad(f)||: 1.0643069979869133e-05\n"
     ]
    }
   ],
   "source": [
    "# Both work the same way to optimise the log posterior:\n",
    "dadvi_opt_analytic = find_dadvi_optimum(x, zs, dadvi_funs_analytic, verbose=True)"
   ]
  },
  {
   "cell_type": "code",
   "execution_count": 59,
   "id": "373ae5dd",
   "metadata": {},
   "outputs": [],
   "source": [
    "opt_params_analytic = dadvi_opt_analytic['opt_result'].x\n",
    "opt_params_jax = dadvi_opt_jax['opt_result'].x"
   ]
  },
  {
   "cell_type": "code",
   "execution_count": null,
   "id": "3e1e5ec2",
   "metadata": {},
   "outputs": [],
   "source": [
    "# More examples on CG, LRVB etc to follow!"
   ]
  }
 ],
 "metadata": {
  "kernelspec": {
   "display_name": "Python 3 (ipykernel)",
   "language": "python",
   "name": "python3"
  },
  "language_info": {
   "codemirror_mode": {
    "name": "ipython",
    "version": 3
   },
   "file_extension": ".py",
   "mimetype": "text/x-python",
   "name": "python",
   "nbconvert_exporter": "python",
   "pygments_lexer": "ipython3",
   "version": "3.8.13"
  }
 },
 "nbformat": 4,
 "nbformat_minor": 5
}
