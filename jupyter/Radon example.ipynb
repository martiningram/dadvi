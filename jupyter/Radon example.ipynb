{
 "cells": [
  {
   "cell_type": "code",
   "execution_count": null,
   "id": "359802e3",
   "metadata": {},
   "outputs": [],
   "source": [
    "import matplotlib.pyplot as plt\n",
    "\n",
    "# This makes sure we use double precision\n",
    "from jax.config import config; config.update(\"jax_enable_x64\", True)"
   ]
  },
  {
   "cell_type": "code",
   "execution_count": null,
   "id": "7076e12c",
   "metadata": {},
   "outputs": [],
   "source": [
    "import pymc as pm\n",
    "import pytensor\n",
    "\n",
    "# This is a good example model since it's built into PyMC\n",
    "def fetch_radon_model():\n",
    "\n",
    "    data = pd.read_csv(pm.get_data(\"radon.csv\"))\n",
    "    data[\"log_radon\"] = data[\"log_radon\"].astype(pytensor.config.floatX)\n",
    "    county_names = data.county.unique()\n",
    "    county_idx = data.county_code.values.astype(\"int32\")\n",
    "\n",
    "    n_counties = len(data.county.unique())\n",
    "\n",
    "    with pm.Model() as hierarchical_model:\n",
    "        # Hyperpriors for group nodes\n",
    "        mu_a = pm.Normal(\"mu_a\", mu=0.0, sigma=100.0)\n",
    "        sigma_a = pm.HalfNormal(\"sigma_a\", 5.0)\n",
    "        mu_b = pm.Normal(\"mu_b\", mu=0.0, sigma=100.0)\n",
    "        sigma_b = pm.HalfNormal(\"sigma_b\", 5.0)\n",
    "\n",
    "        # Intercept for each county, distributed around group mean mu_a\n",
    "        # Above we just set mu and sd to a fixed value while here we\n",
    "        # plug in a common group distribution for all a and b (which are\n",
    "        # vectors of length n_counties).\n",
    "        a = pm.Normal(\"a\", mu=mu_a, sigma=sigma_a, shape=n_counties)\n",
    "        # Intercept for each county, distributed around group mean mu_a\n",
    "        b = pm.Normal(\"b\", mu=mu_b, sigma=sigma_b, shape=n_counties)\n",
    "\n",
    "        # Model error\n",
    "        eps = pm.HalfCauchy(\"eps\", 5.0)\n",
    "\n",
    "        radon_est = a[county_idx] + b[county_idx] * data.floor.values\n",
    "\n",
    "        # Data likelihood\n",
    "        radon_like = pm.Normal(\n",
    "            \"radon_like\", mu=radon_est, sigma=eps, observed=data.log_radon\n",
    "        )\n",
    "\n",
    "    return hierarchical_model"
   ]
  },
  {
   "cell_type": "code",
   "execution_count": null,
   "id": "4f860596-ae25-475c-8995-e917df3f9322",
   "metadata": {},
   "outputs": [],
   "source": [
    "# Define your PyMC model as usual:\n",
    "# Here we could use any PyMC model instead!\n",
    "m = fetch_radon_model()"
   ]
  },
  {
   "cell_type": "code",
   "execution_count": null,
   "id": "f87205e8-d496-4de3-b823-1989f866f8ff",
   "metadata": {
    "scrolled": true
   },
   "outputs": [],
   "source": [
    "# This is the most convenient function to run\n",
    "from dadvi.pymc.jax_api import fit_pymc_dadvi_with_jax\n",
    "\n",
    "model_result = fit_pymc_dadvi_with_jax(m, num_fixed_draws=30)"
   ]
  },
  {
   "cell_type": "code",
   "execution_count": null,
   "id": "d5174704-780d-4ada-a13f-bced665f5f56",
   "metadata": {},
   "outputs": [],
   "source": [
    "# If we do this, we get draws from the mean field estimate\n",
    "mean_field_draws = model_result.get_posterior_draws_mean_field()"
   ]
  },
  {
   "cell_type": "code",
   "execution_count": null,
   "id": "1c059bfb-8038-4e49-8b2a-cdb7488529ff",
   "metadata": {},
   "outputs": [],
   "source": [
    "# We could also look at the mean field means:\n",
    "model_result.get_posterior_means()"
   ]
  },
  {
   "cell_type": "code",
   "execution_count": null,
   "id": "ce39ec2b-2b38-4ee5-8adc-ea78a9984653",
   "metadata": {},
   "outputs": [],
   "source": [
    "# Or the mean field sds:\n",
    "model_result.get_posterior_standard_deviations_mean_field()"
   ]
  },
  {
   "cell_type": "code",
   "execution_count": null,
   "id": "7dae485a-ba06-4947-bd95-e0bf74c39296",
   "metadata": {},
   "outputs": [],
   "source": [
    "# We can compare the results against NUTS:\n",
    "with m as model:\n",
    "    nuts_res = pm.sample()"
   ]
  },
  {
   "cell_type": "code",
   "execution_count": null,
   "id": "f0f2fb4c-b230-4d8f-9fd3-9ed9fe88ffa5",
   "metadata": {},
   "outputs": [],
   "source": [
    "example_variable = nuts_res.posterior['b'].values"
   ]
  },
  {
   "cell_type": "code",
   "execution_count": null,
   "id": "0b6e74a8-4d14-4810-9eb0-3b5662fa745d",
   "metadata": {},
   "outputs": [],
   "source": [
    "# Flatten NUTS into a vector\n",
    "reshaped = example_variable.reshape(4000, -1)"
   ]
  },
  {
   "cell_type": "code",
   "execution_count": null,
   "id": "9f5da49d-2a27-412e-aee5-f61feb989889",
   "metadata": {},
   "outputs": [],
   "source": [
    "# Compare against mean field\n",
    "plt.hist(reshaped[:, 0], density=True, alpha=0.5)\n",
    "plt.hist(mean_field_draws['b'][:, 0], density=True, alpha=0.5)"
   ]
  },
  {
   "cell_type": "code",
   "execution_count": null,
   "id": "7b399806-6366-4670-81a5-3d59a2cb8825",
   "metadata": {},
   "outputs": [],
   "source": [
    "# LRVB correction\n",
    "# Here we use the identity function, but something else works too via the delta method.\n",
    "lrvb_corrected = model_result.get_frequentist_sd_and_lrvb_correction_of_scalar_valued_function(lambda x: x['b'][0])"
   ]
  },
  {
   "cell_type": "code",
   "execution_count": null,
   "id": "2462ed66-d7c0-48a9-9844-8531e93474c5",
   "metadata": {},
   "outputs": [],
   "source": [
    "# This also shows the frequentist SD estimate\n",
    "lrvb_corrected"
   ]
  },
  {
   "cell_type": "code",
   "execution_count": null,
   "id": "1328ccb5-01a6-4faa-a77a-b3bf40b4d140",
   "metadata": {},
   "outputs": [],
   "source": [
    "# lrvb_sd is the LRVB estimate of the posterior SD\n",
    "# freq_sd is the LRVB estimate of the SD due to the fixed draws\n",
    "# n_hvp_calls is the number of hvp calls that were required to compute this"
   ]
  }
 ],
 "metadata": {
  "kernelspec": {
   "display_name": "Python 3 (ipykernel)",
   "language": "python",
   "name": "python3"
  },
  "language_info": {
   "codemirror_mode": {
    "name": "ipython",
    "version": 3
   },
   "file_extension": ".py",
   "mimetype": "text/x-python",
   "name": "python",
   "nbconvert_exporter": "python",
   "pygments_lexer": "ipython3",
   "version": "3.11.6"
  },
  "vscode": {
   "interpreter": {
    "hash": "88740bce1772f3df3bc0633f0263952339ee060b13f48ed95fadf110f01a10d8"
   }
  }
 },
 "nbformat": 4,
 "nbformat_minor": 5
}
