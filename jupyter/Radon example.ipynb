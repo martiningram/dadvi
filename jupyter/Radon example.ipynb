{
 "cells": [
  {
   "cell_type": "code",
   "execution_count": 35,
   "id": "359802e3",
   "metadata": {},
   "outputs": [
    {
     "name": "stderr",
     "output_type": "stream",
     "text": [
      "/tmp/ipykernel_61013/2669944641.py:3: DeprecationWarning: Accessing jax.config via the jax.config submodule is deprecated.\n",
      "  from jax.config import config\n"
     ]
    }
   ],
   "source": [
    "import matplotlib.pyplot as plt\n",
    "import numpy as np\n",
    "from jax.config import config\n",
    "\n",
    "# This makes sure we use double precision\n",
    "config.update(\"jax_enable_x64\", True)\n",
    "\n",
    "import pymc as pm\n",
    "import pytensor\n",
    "import pandas as pd\n",
    "\n",
    "# This is the most convenient function to run\n",
    "from dadvi.pymc.jax_api import fit_pymc_dadvi_with_jax"
   ]
  },
  {
   "cell_type": "code",
   "execution_count": 5,
   "id": "7076e12c",
   "metadata": {},
   "outputs": [],
   "source": [
    "# This is a good example model since it's built into PyMC\n",
    "def fetch_radon_model():\n",
    "\n",
    "    data = pd.read_csv(pm.get_data(\"radon.csv\"))\n",
    "    data[\"log_radon\"] = data[\"log_radon\"].astype(pytensor.config.floatX)\n",
    "    county_names = data.county.unique()\n",
    "    county_idx = data.county_code.values.astype(\"int32\")\n",
    "\n",
    "    n_counties = len(data.county.unique())\n",
    "\n",
    "    with pm.Model() as hierarchical_model:\n",
    "        # Hyperpriors for group nodes\n",
    "        mu_a = pm.Normal(\"mu_a\", mu=0.0, sigma=100.0)\n",
    "        sigma_a = pm.HalfNormal(\"sigma_a\", 5.0)\n",
    "        mu_b = pm.Normal(\"mu_b\", mu=0.0, sigma=100.0)\n",
    "        sigma_b = pm.HalfNormal(\"sigma_b\", 5.0)\n",
    "\n",
    "        # Intercept for each county, distributed around group mean mu_a\n",
    "        # Above we just set mu and sd to a fixed value while here we\n",
    "        # plug in a common group distribution for all a and b (which are\n",
    "        # vectors of length n_counties).\n",
    "        a = pm.Normal(\"a\", mu=mu_a, sigma=sigma_a, shape=n_counties)\n",
    "        # Intercept for each county, distributed around group mean mu_a\n",
    "        b = pm.Normal(\"b\", mu=mu_b, sigma=sigma_b, shape=n_counties)\n",
    "\n",
    "        # Model error\n",
    "        eps = pm.HalfCauchy(\"eps\", 5.0)\n",
    "\n",
    "        radon_est = a[county_idx] + b[county_idx] * data.floor.values\n",
    "\n",
    "        # Data likelihood\n",
    "        radon_like = pm.Normal(\n",
    "            \"radon_like\", mu=radon_est, sigma=eps, observed=data.log_radon\n",
    "        )\n",
    "\n",
    "    return hierarchical_model"
   ]
  },
  {
   "cell_type": "code",
   "execution_count": 6,
   "id": "4f860596-ae25-475c-8995-e917df3f9322",
   "metadata": {},
   "outputs": [],
   "source": [
    "# Define your PyMC model as usual:\n",
    "# Here we could use any PyMC model instead!\n",
    "m = fetch_radon_model()"
   ]
  },
  {
   "cell_type": "code",
   "execution_count": 7,
   "id": "f87205e8-d496-4de3-b823-1989f866f8ff",
   "metadata": {
    "scrolled": false
   },
   "outputs": [
    {
     "name": "stderr",
     "output_type": "stream",
     "text": [
      "/home/rgiordan/bin/miniforge/envs/pymc_env/lib/python3.11/site-packages/tqdm/auto.py:21: TqdmWarning: IProgress not found. Please update jupyter and ipywidgets. See https://ipywidgets.readthedocs.io/en/stable/user_install.html\n",
      "  from .autonotebook import tqdm as notebook_tqdm\n"
     ]
    },
    {
     "name": "stdout",
     "output_type": "stream",
     "text": [
      "'f': 2574.5587494379197, ||grad(f)||: 1139.4837990047079\n",
      "'f': 2387.1172831167487, ||grad(f)||: 293.9666212183309\n",
      "'f': 2223.0661300299853, ||grad(f)||: 153.62154118104695\n",
      "'f': 2057.674973592278, ||grad(f)||: 654.0221164615175\n",
      "'f': 1979.135609745822, ||grad(f)||: 143.39684397605322\n",
      "'f': 5411.9324645173365, ||grad(f)||: 45687.85945624726\n",
      "'f': 1897.3348769337608, ||grad(f)||: 125.58178876125993\n",
      "'f': 1859.9509751175528, ||grad(f)||: 890.4212785329563\n",
      "'f': 1796.7106422123345, ||grad(f)||: 166.50557550394046\n",
      "'f': 1720.7314314182627, ||grad(f)||: 273.47923542163096\n",
      "'f': 1674.907236301958, ||grad(f)||: 132.3404715835358\n",
      "'f': 1504.3712336998108, ||grad(f)||: 158.39420702607242\n",
      "'f': 1464.212233382474, ||grad(f)||: 81.96901477571173\n",
      "'f': 211598.09791570745, ||grad(f)||: 442676.59589507355\n",
      "'f': 1482.4283081797528, ||grad(f)||: 309.47793941040135\n",
      "'f': 1445.9770241417273, ||grad(f)||: 61.270891267188645\n",
      "'f': 1419.9593699356121, ||grad(f)||: 78.70770977586206\n",
      "'f': 1412.3711035477993, ||grad(f)||: 29.49715077402496\n",
      "'f': 1385.8638118227786, ||grad(f)||: 51.622983480897524\n",
      "'f': 1382.4828027396095, ||grad(f)||: 21.969250641737077\n",
      "'f': 1357.775524122623, ||grad(f)||: 53.820018083016016\n",
      "'f': 1354.3495744865436, ||grad(f)||: 15.973398882487388\n",
      "'f': 1350.739951437688, ||grad(f)||: 9.523727832187673\n",
      "'f': 1342.2377086915799, ||grad(f)||: 66.88296101967121\n",
      "'f': 1337.7888463259264, ||grad(f)||: 17.838760702516765\n",
      "'f': 1324.3547431440186, ||grad(f)||: 25.818529423406957\n",
      "'f': 1324.15619464843, ||grad(f)||: 9.371641298351003\n",
      "'f': 1320.2669365644117, ||grad(f)||: 16.9423331401546\n",
      "'f': 1320.1785480731671, ||grad(f)||: 6.013014100595923\n",
      "'f': 1319.4700599136395, ||grad(f)||: 2.3802688610261837\n",
      "'f': 1319.3136104962932, ||grad(f)||: 1.2043859719832304\n",
      "'f': 1318.8072056578471, ||grad(f)||: 10.243145036795381\n",
      "'f': 1318.0634285415456, ||grad(f)||: 6.03677234093743\n",
      "'f': 1317.7722595196014, ||grad(f)||: 1.941994367385507\n",
      "'f': 1317.5559260948933, ||grad(f)||: 0.7766878066009039\n",
      "'f': 1319.940284951435, ||grad(f)||: 17.013521160725887\n",
      "'f': 1317.349737014325, ||grad(f)||: 3.293581837921862\n",
      "'f': 1317.275857721193, ||grad(f)||: 0.9928937003022529\n",
      "'f': 1317.168689492293, ||grad(f)||: 0.5235649505133437\n",
      "'f': 1317.2688993428558, ||grad(f)||: 5.697729155026303\n",
      "'f': 1317.0796874878413, ||grad(f)||: 1.6324353341650086\n",
      "'f': 1317.042569477743, ||grad(f)||: 0.72416881428314\n",
      "'f': 1317.0119017477457, ||grad(f)||: 0.35757038153506826\n",
      "'f': 1316.940383173643, ||grad(f)||: 1.8667297696036584\n",
      "'f': 1316.897613631283, ||grad(f)||: 0.7727672365339301\n",
      "'f': 1316.8756798435531, ||grad(f)||: 0.31551582085656527\n",
      "'f': 1316.8730163421633, ||grad(f)||: 0.12529010631726398\n",
      "'f': 1316.872176046904, ||grad(f)||: 0.031030229296614493\n",
      "'f': 1316.8721484342818, ||grad(f)||: 0.005301605551546611\n",
      "'f': 1316.872146870479, ||grad(f)||: 0.00014856497279396952\n",
      "'f': 1316.8721468695521, ||grad(f)||: 1.487058018021972e-06\n"
     ]
    }
   ],
   "source": [
    "# Fit with DADVI using 30 fixed draws.\n",
    "model_result = fit_pymc_dadvi_with_jax(m, num_fixed_draws=30)"
   ]
  },
  {
   "cell_type": "code",
   "execution_count": 33,
   "id": "d5174704-780d-4ada-a13f-bced665f5f56",
   "metadata": {},
   "outputs": [
    {
     "name": "stdout",
     "output_type": "stream",
     "text": [
      "dict_keys(['a', 'b', 'eps_log__', 'mu_a', 'mu_b', 'sigma_a_log__', 'sigma_b_log__']) \n",
      "\n",
      "(1000, 85) \n",
      "\n",
      "dict_keys(['a', 'b', 'eps_log__', 'mu_a', 'mu_b', 'sigma_a_log__', 'sigma_b_log__']) \n",
      "\n",
      "dict_keys(['a', 'b', 'eps_log__', 'mu_a', 'mu_b', 'sigma_a_log__', 'sigma_b_log__']) \n",
      "\n",
      "(85,) \n",
      "\n"
     ]
    }
   ],
   "source": [
    "# If we do this, we get draws from the mean field estimate\n",
    "mean_field_draws = model_result.get_posterior_draws_mean_field()\n",
    "\n",
    "# We could also look at the mean field means and standard deviations\n",
    "mf_means = model_result.get_posterior_means()\n",
    "mf_sds = model_result.get_posterior_standard_deviations_mean_field()\n",
    "\n",
    "# All three are formatted the same way:\n",
    "print(mean_field_draws.keys(), '\\n')\n",
    "print(mean_field_draws['b'].shape, '\\n')\n",
    "\n",
    "print(mf_means.keys(), '\\n')\n",
    "print(mf_sds.keys(), '\\n')\n",
    "print(mf_means['b'].shape, '\\n')"
   ]
  },
  {
   "cell_type": "code",
   "execution_count": 43,
   "id": "70644c47",
   "metadata": {},
   "outputs": [
    {
     "data": {
      "text/plain": [
       "Text(0.5, 0, 'Mean of posterior draws')"
      ]
     },
     "execution_count": 43,
     "metadata": {},
     "output_type": "execute_result"
    },
    {
     "data": {
      "image/png": "[encoded data removed]",
      "text/plain": [
       "<Figure size 640x480 with 1 Axes>"
      ]
     },
     "metadata": {},
     "output_type": "display_data"
    }
   ],
   "source": [
    "# The posterior draws differ from the MF optimum only by sampling error.  The advantage\n",
    "# of the draws is in computing expectations of nonlinear functions of the parameters.\n",
    "plt.plot(mf_means['b'], np.mean(mean_field_draws['b'], axis=0), '.')\n",
    "plt.xlabel('Mean field posterior mean')\n",
    "plt.xlabel('Mean of posterior draws')"
   ]
  },
  {
   "cell_type": "markdown",
   "id": "5f066b78",
   "metadata": {},
   "source": [
    "# LRVB correction\n",
    "\n",
    "- `lrvb_sd` is the LRVB estimate of the posterior SD\n",
    "- `freq_sd` is the LRVB estimate of the SD due to the fixed draws\n",
    "- `n_hvp_calls` is the number of hvp calls that were required to compute this"
   ]
  },
  {
   "cell_type": "code",
   "execution_count": 52,
   "id": "6f7b6295",
   "metadata": {},
   "outputs": [
    {
     "name": "stdout",
     "output_type": "stream",
     "text": [
      "dict_keys(['mean', 'lrvb_sd', 'freq_sd', 'n_hvp_calls'])\n"
     ]
    }
   ],
   "source": [
    "# Here we use the identity function, but something else works too via the delta method.\n",
    "# This also computes the frequentist SD estimate.\n",
    "lrvb_corrected = model_result.get_frequentist_sd_and_lrvb_correction_of_scalar_valued_function(lambda x: x['b'][0])\n",
    "print(lrvb_corrected.keys())"
   ]
  },
  {
   "cell_type": "code",
   "execution_count": 51,
   "id": "d9a11aa3",
   "metadata": {
    "scrolled": true
   },
   "outputs": [
    {
     "name": "stdout",
     "output_type": "stream",
     "text": [
      "LR sd =\t0.2643477673062741\n",
      "MF sd =\t0.24134678793777933\n"
     ]
    }
   ],
   "source": [
    "print(f'LR sd =\\t{lrvb_corrected[\"lrvb_sd\"]}')\n",
    "print(f'MF sd =\\t{mf_sds[\"b\"][0]}')"
   ]
  },
  {
   "cell_type": "code",
   "execution_count": 58,
   "id": "68df9e2d",
   "metadata": {},
   "outputs": [],
   "source": [
    "lr_draws = np.random.normal(loc=lrvb_corrected['mean'], scale=lrvb_corrected['lrvb_sd'], size=(1000, ))"
   ]
  },
  {
   "cell_type": "markdown",
   "id": "a0d44d34",
   "metadata": {},
   "source": [
    "# Run the same model with PyMC NUTS"
   ]
  },
  {
   "cell_type": "code",
   "execution_count": 11,
   "id": "7dae485a-ba06-4947-bd95-e0bf74c39296",
   "metadata": {},
   "outputs": [
    {
     "name": "stderr",
     "output_type": "stream",
     "text": [
      "Auto-assigning NUTS sampler...\n",
      "Initializing NUTS using jitter+adapt_diag...\n",
      "Multiprocess sampling (4 chains in 4 jobs)\n",
      "NUTS: [mu_a, sigma_a, mu_b, sigma_b, a, b, eps]\n"
     ]
    },
    {
     "data": {
      "text/html": [
       "\n",
       "<style>\n",
       "    /* Turns off some styling */\n",
       "    progress {\n",
       "        /* gets rid of default border in Firefox and Opera. */\n",
       "        border: none;\n",
       "        /* Needs to be in here for Safari polyfill so background images work as expected. */\n",
       "        background-size: auto;\n",
       "    }\n",
       "    progress:not([value]), progress:not([value])::-webkit-progress-bar {\n",
       "        background: repeating-linear-gradient(45deg, #7e7e7e, #7e7e7e 10px, #5c5c5c 10px, #5c5c5c 20px);\n",
       "    }\n",
       "    .progress-bar-interrupted, .progress-bar-interrupted::-webkit-progress-bar {\n",
       "        background: #F44336;\n",
       "    }\n",
       "</style>\n"
      ],
      "text/plain": [
       "<IPython.core.display.HTML object>"
      ]
     },
     "metadata": {},
     "output_type": "display_data"
    },
    {
     "data": {
      "text/html": [
       "\n",
       "    <div>\n",
       "      <progress value='8000' class='' max='8000' style='width:300px; height:20px; vertical-align: middle;'></progress>\n",
       "      100.00% [8000/8000 00:07&lt;00:00 Sampling 4 chains, 8 divergences]\n",
       "    </div>\n",
       "    "
      ],
      "text/plain": [
       "<IPython.core.display.HTML object>"
      ]
     },
     "metadata": {},
     "output_type": "display_data"
    },
    {
     "name": "stderr",
     "output_type": "stream",
     "text": [
      "Sampling 4 chains for 1_000 tune and 1_000 draw iterations (4_000 + 4_000 draws total) took 8 seconds.\n",
      "The rhat statistic is larger than 1.01 for some parameters. This indicates problems during sampling. See https://arxiv.org/abs/1903.08008 for details\n",
      "The effective sample size per chain is smaller than 100 for some parameters.  A higher number is needed for reliable rhat and ess computation. See https://arxiv.org/abs/1903.08008 for details\n",
      "There were 8 divergences after tuning. Increase `target_accept` or reparameterize.\n"
     ]
    }
   ],
   "source": [
    "with m as model:\n",
    "    nuts_res = pm.sample()"
   ]
  },
  {
   "cell_type": "code",
   "execution_count": 20,
   "id": "0b6e74a8-4d14-4810-9eb0-3b5662fa745d",
   "metadata": {},
   "outputs": [],
   "source": [
    "# Flatten NUTS into a vector\n",
    "example_variable = nuts_res.posterior['b'].values\n",
    "num_chains, num_draws, _ = example_variable.shape\n",
    "reshaped = example_variable.reshape(num_chains * num_draws, -1)"
   ]
  },
  {
   "cell_type": "markdown",
   "id": "083d91c5",
   "metadata": {},
   "source": [
    "## Compare NUTS with mean field and linear response"
   ]
  },
  {
   "cell_type": "code",
   "execution_count": 59,
   "id": "9f5da49d-2a27-412e-aee5-f61feb989889",
   "metadata": {},
   "outputs": [
    {
     "data": {
      "text/plain": [
       "<matplotlib.legend.Legend at 0x7fe1cc31f1d0>"
      ]
     },
     "execution_count": 59,
     "metadata": {},
     "output_type": "execute_result"
    },
    {
     "data": {
      "image/png": "[encoded data removed]",
      "text/plain": [
       "<Figure size 640x480 with 1 Axes>"
      ]
     },
     "metadata": {},
     "output_type": "display_data"
    }
   ],
   "source": [
    "# Compare against mean field\n",
    "plt.hist(reshaped[:, 0], density=True, alpha=0.5, label='NUTS (MCMC)')\n",
    "plt.hist(mean_field_draws['b'][:, 0], density=True, alpha=0.5, label='Mean field')\n",
    "plt.hist(lr_draws, density=True, alpha=0.5, label='Linear response')\n",
    "plt.xlabel('Draws of b[0]')\n",
    "plt.legend()"
   ]
  }
 ],
 "metadata": {
  "kernelspec": {
   "display_name": "dadvi",
   "language": "python",
   "name": "dadvi"
  },
  "language_info": {
   "codemirror_mode": {
    "name": "ipython",
    "version": 3
   },
   "file_extension": ".py",
   "mimetype": "text/x-python",
   "name": "python",
   "nbconvert_exporter": "python",
   "pygments_lexer": "ipython3",
   "version": "3.11.6"
  },
  "vscode": {
   "interpreter": {
    "hash": "88740bce1772f3df3bc0633f0263952339ee060b13f48ed95fadf110f01a10d8"
   }
  }
 },
 "nbformat": 4,
 "nbformat_minor": 5
}
